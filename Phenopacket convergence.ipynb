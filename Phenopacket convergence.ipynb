{
 "cells": [
  {
   "cell_type": "code",
   "execution_count": 1,
   "id": "c8a7faf2",
   "metadata": {},
   "outputs": [],
   "source": [
    "import requests\n",
    "import json\n",
    "import pandas as pd\n",
    "from pandas import json_normalize\n",
    "from google.protobuf.json_format import Parse, MessageToJson\n",
    "from google.protobuf.timestamp_pb2 import Timestamp\n",
    "from phenopackets import Phenopacket, Individual, PhenotypicFeature, OntologyClass, GeneDescriptor, GenomicInterpretation, Diagnosis, Interpretation"
   ]
  },
  {
   "cell_type": "code",
   "execution_count": 2,
   "id": "0ac0c24c",
   "metadata": {},
   "outputs": [
    {
     "data": {
      "text/html": [
       "<div>\n",
       "<style scoped>\n",
       "    .dataframe tbody tr th:only-of-type {\n",
       "        vertical-align: middle;\n",
       "    }\n",
       "\n",
       "    .dataframe tbody tr th {\n",
       "        vertical-align: top;\n",
       "    }\n",
       "\n",
       "    .dataframe thead th {\n",
       "        text-align: right;\n",
       "    }\n",
       "</style>\n",
       "<table border=\"1\" class=\"dataframe\">\n",
       "  <thead>\n",
       "    <tr style=\"text-align: right;\">\n",
       "      <th></th>\n",
       "      <th>id</th>\n",
       "      <th>patient_id</th>\n",
       "      <th>gene_id</th>\n",
       "      <th>features</th>\n",
       "    </tr>\n",
       "  </thead>\n",
       "  <tbody>\n",
       "    <tr>\n",
       "      <th>0</th>\n",
       "      <td>patient_1</td>\n",
       "      <td>Patient:SCV000492960</td>\n",
       "      <td>Entrez:10000</td>\n",
       "      <td>HP:0005306,HP:0000256,HP:0001263,HP:0002126</td>\n",
       "    </tr>\n",
       "    <tr>\n",
       "      <th>1</th>\n",
       "      <td>patient_2</td>\n",
       "      <td>Patient:SCV000747622</td>\n",
       "      <td>Entrez:10002</td>\n",
       "      <td>HP:0000505,HP:0000666,HP:0000551,HP:0000556</td>\n",
       "    </tr>\n",
       "    <tr>\n",
       "      <th>2</th>\n",
       "      <td>patient_3</td>\n",
       "      <td>Patient:SCV000599197</td>\n",
       "      <td>Entrez:10002</td>\n",
       "      <td>HP:0000556</td>\n",
       "    </tr>\n",
       "    <tr>\n",
       "      <th>3</th>\n",
       "      <td>patient_4</td>\n",
       "      <td>Patient:SCV000598737</td>\n",
       "      <td>Entrez:1001</td>\n",
       "      <td>HP:0007754</td>\n",
       "    </tr>\n",
       "    <tr>\n",
       "      <th>4</th>\n",
       "      <td>patient_5</td>\n",
       "      <td>Patient:293197</td>\n",
       "      <td>Entrez:100151683</td>\n",
       "      <td>HP:0001631,HP:0001601,HP:0011344,HP:0011994</td>\n",
       "    </tr>\n",
       "  </tbody>\n",
       "</table>\n",
       "</div>"
      ],
      "text/plain": [
       "          id            patient_id           gene_id  \\\n",
       "0  patient_1  Patient:SCV000492960      Entrez:10000   \n",
       "1  patient_2  Patient:SCV000747622      Entrez:10002   \n",
       "2  patient_3  Patient:SCV000599197      Entrez:10002   \n",
       "3  patient_4  Patient:SCV000598737       Entrez:1001   \n",
       "4  patient_5        Patient:293197  Entrez:100151683   \n",
       "\n",
       "                                      features  \n",
       "0  HP:0005306,HP:0000256,HP:0001263,HP:0002126  \n",
       "1  HP:0000505,HP:0000666,HP:0000551,HP:0000556  \n",
       "2                                   HP:0000556  \n",
       "3                                   HP:0007754  \n",
       "4  HP:0001631,HP:0001601,HP:0011344,HP:0011994  "
      ]
     },
     "execution_count": 2,
     "metadata": {},
     "output_type": "execute_result"
    }
   ],
   "source": [
    "data = pd.read_csv('case.csv')\n",
    "data.head()"
   ]
  },
  {
   "cell_type": "code",
   "execution_count": 3,
   "id": "1592c8d9",
   "metadata": {},
   "outputs": [],
   "source": [
    "dj = data.to_json(orient = 'records')\n",
    "parsed = json.loads(dj)"
   ]
  },
  {
   "cell_type": "code",
   "execution_count": 4,
   "id": "33a513b9",
   "metadata": {},
   "outputs": [
    {
     "data": {
      "text/plain": [
       "{'id': 'patient_1',\n",
       " 'patient_id': 'Patient:SCV000492960',\n",
       " 'gene_id': 'Entrez:10000',\n",
       " 'features': 'HP:0005306,HP:0000256,HP:0001263,HP:0002126'}"
      ]
     },
     "execution_count": 4,
     "metadata": {},
     "output_type": "execute_result"
    }
   ],
   "source": [
    "parsed[0]"
   ]
  },
  {
   "cell_type": "code",
   "execution_count": 5,
   "id": "e866cdf1",
   "metadata": {},
   "outputs": [],
   "source": [
    "#test\n",
    "from google.protobuf.json_format import Parse, MessageToJson\n",
    "from google.protobuf.timestamp_pb2 import Timestamp\n",
    "from phenopackets import Phenopacket, Individual, PhenotypicFeature, OntologyClass\n",
    "\n",
    "# Parsing phenopackets from json\n",
    "# with open('file.json', 'r') as jsfile:\n",
    "#     phenopacket = Parse(Phenopacket(), text=jsfile.read())\n",
    "\n",
    "# Writing phenopackets to json\n",
    "with open('file.json', 'w') as jsfile:\n",
    "    subject = Individual(id=\"Zaphod\", sex=\"MALE\", date_of_birth=Timestamp(seconds=-123456798))\n",
    "    phenotypic_features = [PhenotypicFeature(type=OntologyClass(id=\"HG2G:00001\", label=\"Hoopy\")),\n",
    "                           PhenotypicFeature(type=OntologyClass(id=\"HG2G:00002\", label=\"Frood\"))]\n",
    "\n",
    "    phenopacket = Phenopacket(id=\"PPKT:1\", subject=subject, phenotypic_features=phenotypic_features)\n",
    "\n",
    "    json = MessageToJson(phenopacket)\n",
    "    jsfile.write(json)"
   ]
  },
  {
   "cell_type": "code",
   "execution_count": 6,
   "id": "d1afd6ea",
   "metadata": {},
   "outputs": [],
   "source": [
    "with open('example.json', 'w') as jsfile:\n",
    "    subject = Individual(id=parsed[0]['patient_id'])\n",
    "    phenotypic_features = [PhenotypicFeature(type=OntologyClass(id=parsed[0]['features'].split(',')[0])),\n",
    "                           PhenotypicFeature(type=OntologyClass(id=parsed[0]['features'].split(',')[1]))]\n",
    "    gene_descriptor = GeneDescriptor(symbol = parsed[0]['gene_id'])\n",
    "    genomic_interpretations = GenomicInterpretation(gene=gene_descriptor)\n",
    "    diagnosis = Diagnosis(genomic_interpretations = [genomic_interpretations])\n",
    "    interpretations = [Interpretation(diagnosis=diagnosis)]\n",
    "    \n",
    "    phenopacket = Phenopacket(id=parsed[0]['id'], subject=subject, phenotypic_features=phenotypic_features, interpretations=interpretations)\n",
    "\n",
    "    json = MessageToJson(phenopacket)\n",
    "    jsfile.write(json)"
   ]
  },
  {
   "cell_type": "code",
   "execution_count": 7,
   "id": "35a4292e",
   "metadata": {},
   "outputs": [],
   "source": [
    "for i in range(0, len(parsed)):\n",
    "    y = parsed[i]['id']\n",
    "    x = parsed[i]['patient_id']\n",
    "    z = parsed[i]['features'].split(',')[0]\n",
    "    w = parsed[i]['gene_id']\n",
    "    value = z.split(',')\n",
    "    features = []\n",
    "    for j in range(0, len(value)):\n",
    "        features.append(PhenotypicFeature(type=OntologyClass(id=value[j])))\n",
    "        \n",
    "    num = str(i+1)\n",
    "    with open('patient'+num+'.json', 'w') as jsfile:\n",
    "        subject = Individual(id = x)\n",
    "        phenotypic_features = features\n",
    "        \n",
    "        gene_descriptor = GeneDescriptor(symbol = w)\n",
    "        genomic_interpretations = GenomicInterpretation(gene=gene_descriptor)\n",
    "        diagnosis = Diagnosis(genomic_interpretations = [genomic_interpretations])\n",
    "        interpretations = [Interpretation(diagnosis=diagnosis)]\n",
    "\n",
    "\n",
    "        phenopacket = Phenopacket(id = y, subject=subject, phenotypic_features=phenotypic_features, interpretations=interpretations)\n",
    "\n",
    "        json = MessageToJson(phenopacket)\n",
    "        jsfile.write(json)"
   ]
  }
 ],
 "metadata": {
  "kernelspec": {
   "display_name": "Python 3 (ipykernel)",
   "language": "python",
   "name": "python3"
  },
  "language_info": {
   "codemirror_mode": {
    "name": "ipython",
    "version": 3
   },
   "file_extension": ".py",
   "mimetype": "text/x-python",
   "name": "python",
   "nbconvert_exporter": "python",
   "pygments_lexer": "ipython3",
   "version": "3.9.12"
  }
 },
 "nbformat": 4,
 "nbformat_minor": 5
}
