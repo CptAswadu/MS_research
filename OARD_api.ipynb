{
 "cells": [
  {
   "cell_type": "code",
   "execution_count": 10,
   "metadata": {},
   "outputs": [],
   "source": [
    "import requests\n",
    "import json\n",
    "from pandas import json_normalize\n",
    "import pandas as pd"
   ]
  },
  {
   "cell_type": "markdown",
   "metadata": {},
   "source": [
    "# Count the number of HPO ID\n",
    "### total 16480"
   ]
  },
  {
   "cell_type": "code",
   "execution_count": 4,
   "metadata": {},
   "outputs": [
    {
     "name": "stderr",
     "output_type": "stream",
     "text": [
      "* Owlready2 * Warning: optimized Cython parser module 'owlready2_optimized' is not available, defaulting to slower Python implementation\n",
      "* Owlready2 * Warning: ignoring cyclic subclass of/subproperty of, involving:\n",
      "  http://purl.obolibrary.org/obo/BFO_0000023\n",
      "  http://purl.obolibrary.org/obo/CHEBI_50906\n",
      "\n",
      "* Owlready2 * Warning: ignoring cyclic subclass of/subproperty of, involving:\n",
      "  http://purl.obolibrary.org/obo/CHEBI_36080\n",
      "  http://purl.obolibrary.org/obo/PR_000000001\n",
      "\n"
     ]
    },
    {
     "name": "stdout",
     "output_type": "stream",
     "text": [
      "16480\n"
     ]
    }
   ],
   "source": [
    "from owlready2 import *\n",
    "onto = get_ontology(\"http://purl.obolibrary.org/obo/hp.owl\").load()\n",
    "obo = onto.get_namespace(\"http://purl.obolibrary.org/obo/\")\n",
    "ontology_classes = obo.HP_0000001.descendants()\n",
    "\n",
    "i = 0\n",
    "for current_class in ontology_classes:\n",
    "    hp_id = current_class.name.replace('_', ':')\n",
    "    i = i + 1\n",
    "print(str(i))"
   ]
  },
  {
   "cell_type": "markdown",
   "metadata": {},
   "source": [
    "# Find descendants of Muscular dystrophy"
   ]
  },
  {
   "cell_type": "code",
   "execution_count": 6,
   "metadata": {},
   "outputs": [
    {
     "name": "stdout",
     "output_type": "stream",
     "text": [
      "HP:0007081 | Late-onset muscular dystrophy\n",
      "HP:0006785 | Limb-girdle muscular dystrophy\n",
      "HP:0003741 | Congenital muscular dystrophy\n",
      "HP:0008970 | Scapulohumeral muscular dystrophy\n"
     ]
    }
   ],
   "source": [
    "from pyhpo import Ontology\n",
    "_ = Ontology()\n",
    "term = Ontology.get_hpo_object('HP:0003560')\n",
    "for p in term.children:\n",
    "    print(p)"
   ]
  },
  {
   "cell_type": "markdown",
   "metadata": {},
   "source": [
    "# Co-occurence & Jaccard Index"
   ]
  },
  {
   "cell_type": "code",
   "execution_count": 7,
   "metadata": {},
   "outputs": [
    {
     "data": {
      "text/html": [
       "<div>\n",
       "<style scoped>\n",
       "    .dataframe tbody tr th:only-of-type {\n",
       "        vertical-align: middle;\n",
       "    }\n",
       "\n",
       "    .dataframe tbody tr th {\n",
       "        vertical-align: top;\n",
       "    }\n",
       "\n",
       "    .dataframe thead th {\n",
       "        text-align: right;\n",
       "    }\n",
       "</style>\n",
       "<table border=\"1\" class=\"dataframe\">\n",
       "  <thead>\n",
       "    <tr style=\"text-align: right;\">\n",
       "      <th></th>\n",
       "      <th>concept_name_2</th>\n",
       "      <th>concept_pair_count</th>\n",
       "      <th>Jaccard</th>\n",
       "    </tr>\n",
       "  </thead>\n",
       "  <tbody>\n",
       "    <tr>\n",
       "      <th>0</th>\n",
       "      <td>Limb-girdle muscular dystrophy</td>\n",
       "      <td>315</td>\n",
       "      <td>0.191257</td>\n",
       "    </tr>\n",
       "    <tr>\n",
       "      <th>1</th>\n",
       "      <td>Congenital muscular dystrophy</td>\n",
       "      <td>174</td>\n",
       "      <td>0.106552</td>\n",
       "    </tr>\n",
       "    <tr>\n",
       "      <th>2</th>\n",
       "      <td>Late-onset muscular dystrophy</td>\n",
       "      <td>22</td>\n",
       "      <td>0.013631</td>\n",
       "    </tr>\n",
       "  </tbody>\n",
       "</table>\n",
       "</div>"
      ],
      "text/plain": [
       "                   concept_name_2  concept_pair_count   Jaccard\n",
       "0  Limb-girdle muscular dystrophy                 315  0.191257\n",
       "1   Congenital muscular dystrophy                 174  0.106552\n",
       "2   Late-onset muscular dystrophy                  22  0.013631"
      ]
     },
     "execution_count": 7,
     "metadata": {},
     "output_type": "execute_result"
    }
   ],
   "source": [
    "query = {'dataset_id': 2, 'concept_id_1':'90003560', 'concept_id_2': ['90006785; 90007081; 90008970; 90003741']}\n",
    "response = requests.get('https://rare.cohd.io/api/frequencies/pairedConceptFreq', params=query)\n",
    "\n",
    "info = response.json()\n",
    "df = json_normalize(info['results'])\n",
    "df['Jaccard'] = df['concept_pair_count']/(df['concept_count_1']+df['concept_count_2']-df['concept_pair_count']) \n",
    "df_sorted = df.sort_values(by=['concept_pair_count'], ascending= False)\n",
    "n_df = df_sorted.loc[:, (\"concept_name_2\", \"concept_pair_count\", \"Jaccard\")]\n",
    "n_df"
   ]
  },
  {
   "cell_type": "markdown",
   "metadata": {},
   "source": [
    "# With All HPO Terms"
   ]
  },
  {
   "cell_type": "code",
   "execution_count": 7,
   "metadata": {},
   "outputs": [
    {
     "data": {
      "text/plain": [
       "16480"
      ]
     },
     "execution_count": 7,
     "metadata": {},
     "output_type": "execute_result"
    }
   ],
   "source": [
    "o_list = [] \n",
    "for current_class in ontology_classes:\n",
    "    hp_id = current_class.name.replace('_', ':')\n",
    "    o_list.append(hp_id)"
   ]
  },
  {
   "cell_type": "code",
   "execution_count": 20,
   "metadata": {},
   "outputs": [],
   "source": [
    "o_100 = o_list[0:100]\n",
    "s = \",\".join(o_100).replace(\",\", \";\")\n",
    "para = {'q': s}\n",
    "response = requests.get('https://rare.cohd.io/api/vocabulary/findConceptByCode', params = para).json()\n",
    "df_z = json_normalize(response['results'])\n",
    "list_z = df_z['concept_id'].values.tolist()\n",
    "list_z = list(map(str, list_z))\n",
    "str_z = \",\".join(list_z).replace(\",\", \";\")\n",
    "query = {'dataset_id': 2, 'concept_id_1':'90003560', 'concept_id_2': str_z}\n",
    "info = requests.get('https://rare.cohd.io/api/frequencies/pairedConceptFreq', params=query).json()\n",
    "result = json_normalize(info['results'])"
   ]
  },
  {
   "cell_type": "code",
   "execution_count": 21,
   "metadata": {},
   "outputs": [],
   "source": [
    "i = 101\n",
    "while i < 16400: \n",
    "    o_100 = o_list[i:i+99]\n",
    "    s = \",\".join(o_100).replace(\",\", \";\")\n",
    "    para = {'q': s}\n",
    "    response = requests.get('https://rare.cohd.io/api/vocabulary/findConceptByCode', params = para).json()\n",
    "    df_z = json_normalize(response['results'])\n",
    "    list_z = df_z['concept_id'].values.tolist()\n",
    "    list_z = list(map(str, list_z))\n",
    "    str_z = \",\".join(list_z).replace(\",\", \";\")\n",
    "    query = {'dataset_id': 2, 'concept_id_1':'90003560', 'concept_id_2': str_z}\n",
    "    info = requests.get('https://rare.cohd.io/api/frequencies/pairedConceptFreq', params=query).json()\n",
    "    df = json_normalize(info['results'])\n",
    "    result = pd.concat([result, df])\n",
    "    i = i+100\n",
    "    try:\n",
    "        info is None\n",
    "    except:\n",
    "        pass\n",
    "    "
   ]
  },
  {
   "cell_type": "code",
   "execution_count": 23,
   "metadata": {},
   "outputs": [
    {
     "data": {
      "text/html": [
       "<div>\n",
       "<style scoped>\n",
       "    .dataframe tbody tr th:only-of-type {\n",
       "        vertical-align: middle;\n",
       "    }\n",
       "\n",
       "    .dataframe tbody tr th {\n",
       "        vertical-align: top;\n",
       "    }\n",
       "\n",
       "    .dataframe thead th {\n",
       "        text-align: right;\n",
       "    }\n",
       "</style>\n",
       "<table border=\"1\" class=\"dataframe\">\n",
       "  <thead>\n",
       "    <tr style=\"text-align: right;\">\n",
       "      <th></th>\n",
       "      <th>concept_name_2</th>\n",
       "      <th>Jaccard</th>\n",
       "      <th>concept_count_2</th>\n",
       "      <th>concept_pair_count</th>\n",
       "      <th>concept_id_2</th>\n",
       "    </tr>\n",
       "  </thead>\n",
       "  <tbody>\n",
       "    <tr>\n",
       "      <th>0</th>\n",
       "      <td>Limb-girdle muscular dystrophy</td>\n",
       "      <td>0.191257</td>\n",
       "      <td>351</td>\n",
       "      <td>315</td>\n",
       "      <td>90006785</td>\n",
       "    </tr>\n",
       "    <tr>\n",
       "      <th>0</th>\n",
       "      <td>Congenital muscular dystrophy</td>\n",
       "      <td>0.106552</td>\n",
       "      <td>196</td>\n",
       "      <td>174</td>\n",
       "      <td>90003741</td>\n",
       "    </tr>\n",
       "    <tr>\n",
       "      <th>0</th>\n",
       "      <td>Progressive muscle weakness</td>\n",
       "      <td>0.074058</td>\n",
       "      <td>811</td>\n",
       "      <td>167</td>\n",
       "      <td>90003323</td>\n",
       "    </tr>\n",
       "    <tr>\n",
       "      <th>0</th>\n",
       "      <td>Increased variability in muscle fiber diameter</td>\n",
       "      <td>0.072464</td>\n",
       "      <td>1275</td>\n",
       "      <td>195</td>\n",
       "      <td>90003557</td>\n",
       "    </tr>\n",
       "    <tr>\n",
       "      <th>0</th>\n",
       "      <td>Myopathy</td>\n",
       "      <td>0.066953</td>\n",
       "      <td>8078</td>\n",
       "      <td>608</td>\n",
       "      <td>90003198</td>\n",
       "    </tr>\n",
       "    <tr>\n",
       "      <th>0</th>\n",
       "      <td>Rimmed vacuoles</td>\n",
       "      <td>0.053993</td>\n",
       "      <td>4948</td>\n",
       "      <td>336</td>\n",
       "      <td>90003805</td>\n",
       "    </tr>\n",
       "    <tr>\n",
       "      <th>1</th>\n",
       "      <td>Proximal muscle weakness</td>\n",
       "      <td>0.053615</td>\n",
       "      <td>1828</td>\n",
       "      <td>175</td>\n",
       "      <td>90003701</td>\n",
       "    </tr>\n",
       "    <tr>\n",
       "      <th>2</th>\n",
       "      <td>Gowers sign</td>\n",
       "      <td>0.049487</td>\n",
       "      <td>128</td>\n",
       "      <td>82</td>\n",
       "      <td>90003391</td>\n",
       "    </tr>\n",
       "    <tr>\n",
       "      <th>2</th>\n",
       "      <td>Calf muscle hypertrophy</td>\n",
       "      <td>0.040244</td>\n",
       "      <td>95</td>\n",
       "      <td>66</td>\n",
       "      <td>90008981</td>\n",
       "    </tr>\n",
       "    <tr>\n",
       "      <th>3</th>\n",
       "      <td>Inflammatory myopathy</td>\n",
       "      <td>0.039742</td>\n",
       "      <td>1293</td>\n",
       "      <td>111</td>\n",
       "      <td>90009071</td>\n",
       "    </tr>\n",
       "  </tbody>\n",
       "</table>\n",
       "</div>"
      ],
      "text/plain": [
       "                                   concept_name_2   Jaccard  concept_count_2  \\\n",
       "0                  Limb-girdle muscular dystrophy  0.191257              351   \n",
       "0                   Congenital muscular dystrophy  0.106552              196   \n",
       "0                     Progressive muscle weakness  0.074058              811   \n",
       "0  Increased variability in muscle fiber diameter  0.072464             1275   \n",
       "0                                        Myopathy  0.066953             8078   \n",
       "0                                 Rimmed vacuoles  0.053993             4948   \n",
       "1                        Proximal muscle weakness  0.053615             1828   \n",
       "2                                     Gowers sign  0.049487              128   \n",
       "2                         Calf muscle hypertrophy  0.040244               95   \n",
       "3                           Inflammatory myopathy  0.039742             1293   \n",
       "\n",
       "   concept_pair_count  concept_id_2  \n",
       "0                 315      90006785  \n",
       "0                 174      90003741  \n",
       "0                 167      90003323  \n",
       "0                 195      90003557  \n",
       "0                 608      90003198  \n",
       "0                 336      90003805  \n",
       "1                 175      90003701  \n",
       "2                  82      90003391  \n",
       "2                  66      90008981  \n",
       "3                 111      90009071  "
      ]
     },
     "execution_count": 23,
     "metadata": {},
     "output_type": "execute_result"
    }
   ],
   "source": [
    "o_100 = o_list[16401:16480]\n",
    "s = \",\".join(o_100).replace(\",\", \";\")\n",
    "para = {'q': s}\n",
    "response = requests.get('https://rare.cohd.io/api/vocabulary/findConceptByCode', params = para).json()\n",
    "df_z = json_normalize(response['results'])\n",
    "list_z = df_z['concept_id'].values.tolist()\n",
    "list_z = list(map(str, list_z))\n",
    "str_z = \",\".join(list_z).replace(\",\", \";\")\n",
    "query = {'dataset_id': 2, 'concept_id_1':'90003560', 'concept_id_2': str_z}\n",
    "info = requests.get('https://rare.cohd.io/api/frequencies/pairedConceptFreq', params=query).json()\n",
    "df1 = json_normalize(info['results'])\n",
    "result = pd.concat([result, df1])\n",
    "result = result.drop_duplicates(['concept_name_2'])\n",
    "result['Jaccard'] = result['concept_pair_count']/(result['concept_count_1']+result['concept_count_2']-result['concept_pair_count'])\n",
    "result = result.sort_values(by=['Jaccard'], ascending=False)\n",
    "result = result.loc[:,(\"concept_name_2\", \"Jaccard\", \"concept_count_2\", \"concept_pair_count\", \"concept_id_2\" )]\n",
    "result.head(10)\n"
   ]
  },
  {
   "cell_type": "markdown",
   "metadata": {},
   "source": [
    "### Limb-girdle muscular dystrophy, Congenital muscular dystrophy, Progressive muscle weakness, Increased variability in muscle fiber diameter, Myopathy, Rimmed vacuoles, Proximal muscle weakness, Gowers sign, Calf muscle hypertrophy, inflammatory myopathy are the top 10 Jaccard index"
   ]
  }
 ],
 "metadata": {
  "interpreter": {
   "hash": "2de4b57567163a098e7adba4e612a00fb00b8b89becbae811366bd31fbbf9c52"
  },
  "kernelspec": {
   "display_name": "Python 3.7.11 ('MS_Research_0225')",
   "language": "python",
   "name": "python3"
  },
  "language_info": {
   "codemirror_mode": {
    "name": "ipython",
    "version": 3
   },
   "file_extension": ".py",
   "mimetype": "text/x-python",
   "name": "python",
   "nbconvert_exporter": "python",
   "pygments_lexer": "ipython3",
   "version": "3.7.11"
  },
  "orig_nbformat": 4
 },
 "nbformat": 4,
 "nbformat_minor": 2
}
