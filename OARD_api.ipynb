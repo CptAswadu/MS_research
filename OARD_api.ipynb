{
 "cells": [
  {
   "cell_type": "code",
   "execution_count": 5,
   "metadata": {},
   "outputs": [],
   "source": [
    "import requests\n",
    "import json\n",
    "from pandas import json_normalize"
   ]
  },
  {
   "cell_type": "markdown",
   "metadata": {},
   "source": [
    "# Count the number of HPO ID\n",
    "### total 16480"
   ]
  },
  {
   "cell_type": "code",
   "execution_count": 3,
   "metadata": {},
   "outputs": [
    {
     "name": "stderr",
     "output_type": "stream",
     "text": [
      "* Owlready2 * Warning: optimized Cython parser module 'owlready2_optimized' is not available, defaulting to slower Python implementation\n",
      "* Owlready2 * Warning: ignoring cyclic subclass of/subproperty of, involving:\n",
      "  http://purl.obolibrary.org/obo/BFO_0000023\n",
      "  http://purl.obolibrary.org/obo/CHEBI_50906\n",
      "\n",
      "* Owlready2 * Warning: ignoring cyclic subclass of/subproperty of, involving:\n",
      "  http://purl.obolibrary.org/obo/CHEBI_36080\n",
      "  http://purl.obolibrary.org/obo/PR_000000001\n",
      "\n"
     ]
    },
    {
     "name": "stdout",
     "output_type": "stream",
     "text": [
      "16480\n"
     ]
    }
   ],
   "source": [
    "from owlready2 import *\n",
    "onto = get_ontology(\"http://purl.obolibrary.org/obo/hp.owl\").load()\n",
    "obo = onto.get_namespace(\"http://purl.obolibrary.org/obo/\")\n",
    "ontology_classes = obo.HP_0000001.descendants()\n",
    "\n",
    "i = 0\n",
    "for current_class in ontology_classes:\n",
    "    hp_id = current_class.name.replace('_', ':')\n",
    "    i = i + 1\n",
    "print(str(i))"
   ]
  },
  {
   "cell_type": "markdown",
   "metadata": {},
   "source": [
    "# Find descendants of Muscular dystrophy"
   ]
  },
  {
   "cell_type": "code",
   "execution_count": 6,
   "metadata": {},
   "outputs": [
    {
     "name": "stdout",
     "output_type": "stream",
     "text": [
      "HP:0007081 | Late-onset muscular dystrophy\n",
      "HP:0006785 | Limb-girdle muscular dystrophy\n",
      "HP:0003741 | Congenital muscular dystrophy\n",
      "HP:0008970 | Scapulohumeral muscular dystrophy\n"
     ]
    }
   ],
   "source": [
    "from pyhpo import Ontology\n",
    "_ = Ontology()\n",
    "term = Ontology.get_hpo_object('HP:0003560')\n",
    "for p in term.children:\n",
    "    print(p)"
   ]
  },
  {
   "cell_type": "markdown",
   "metadata": {},
   "source": [
    "# Co-occurence & Jaccard Index"
   ]
  },
  {
   "cell_type": "code",
   "execution_count": 7,
   "metadata": {},
   "outputs": [
    {
     "data": {
      "text/html": [
       "<div>\n",
       "<style scoped>\n",
       "    .dataframe tbody tr th:only-of-type {\n",
       "        vertical-align: middle;\n",
       "    }\n",
       "\n",
       "    .dataframe tbody tr th {\n",
       "        vertical-align: top;\n",
       "    }\n",
       "\n",
       "    .dataframe thead th {\n",
       "        text-align: right;\n",
       "    }\n",
       "</style>\n",
       "<table border=\"1\" class=\"dataframe\">\n",
       "  <thead>\n",
       "    <tr style=\"text-align: right;\">\n",
       "      <th></th>\n",
       "      <th>concept_name_2</th>\n",
       "      <th>concept_pair_count</th>\n",
       "      <th>Jaccard</th>\n",
       "    </tr>\n",
       "  </thead>\n",
       "  <tbody>\n",
       "    <tr>\n",
       "      <th>0</th>\n",
       "      <td>Limb-girdle muscular dystrophy</td>\n",
       "      <td>315</td>\n",
       "      <td>0.191257</td>\n",
       "    </tr>\n",
       "    <tr>\n",
       "      <th>1</th>\n",
       "      <td>Congenital muscular dystrophy</td>\n",
       "      <td>174</td>\n",
       "      <td>0.106552</td>\n",
       "    </tr>\n",
       "    <tr>\n",
       "      <th>2</th>\n",
       "      <td>Late-onset muscular dystrophy</td>\n",
       "      <td>22</td>\n",
       "      <td>0.013631</td>\n",
       "    </tr>\n",
       "  </tbody>\n",
       "</table>\n",
       "</div>"
      ],
      "text/plain": [
       "                   concept_name_2  concept_pair_count   Jaccard\n",
       "0  Limb-girdle muscular dystrophy                 315  0.191257\n",
       "1   Congenital muscular dystrophy                 174  0.106552\n",
       "2   Late-onset muscular dystrophy                  22  0.013631"
      ]
     },
     "execution_count": 7,
     "metadata": {},
     "output_type": "execute_result"
    }
   ],
   "source": [
    "query = {'dataset_id': 2, 'concept_id_1':'90003560', 'concept_id_2': ['90006785; 90007081; 90008970; 90003741']}\n",
    "response = requests.get('https://rare.cohd.io/api/frequencies/pairedConceptFreq', params=query)\n",
    "\n",
    "info = response.json()\n",
    "df = json_normalize(info['results'])\n",
    "df['Jaccard'] = df['concept_pair_count']/(df['concept_count_1']+df['concept_count_2']-df['concept_pair_count']) \n",
    "df_sorted = df.sort_values(by=['concept_pair_count'], ascending= False)\n",
    "n_df = df_sorted.loc[:, (\"concept_name_2\", \"concept_pair_count\", \"Jaccard\")]\n",
    "n_df"
   ]
  }
 ],
 "metadata": {
  "interpreter": {
   "hash": "2de4b57567163a098e7adba4e612a00fb00b8b89becbae811366bd31fbbf9c52"
  },
  "kernelspec": {
   "display_name": "Python 3.7.11 ('MS_Research_0225')",
   "language": "python",
   "name": "python3"
  },
  "language_info": {
   "codemirror_mode": {
    "name": "ipython",
    "version": 3
   },
   "file_extension": ".py",
   "mimetype": "text/x-python",
   "name": "python",
   "nbconvert_exporter": "python",
   "pygments_lexer": "ipython3",
   "version": "3.7.11"
  },
  "orig_nbformat": 4
 },
 "nbformat": 4,
 "nbformat_minor": 2
}
